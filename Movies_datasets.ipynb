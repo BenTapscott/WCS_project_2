{
  "nbformat": 4,
  "nbformat_minor": 0,
  "metadata": {
    "colab": {
      "name": "Movies datasets.ipynb",
      "provenance": [],
      "collapsed_sections": []
    },
    "kernelspec": {
      "name": "python3",
      "display_name": "Python 3"
    },
    "language_info": {
      "name": "python"
    }
  },
  "cells": [
    {
      "cell_type": "code",
      "metadata": {
        "id": "-J88DjU7LGhk"
      },
      "source": [
        "import pandas as pd\n",
        "import matplotlib.pyplot as plt\n",
        "import seaborn as sns\n"
      ],
      "execution_count": 1,
      "outputs": []
    },
    {
      "cell_type": "code",
      "metadata": {
        "colab": {
          "base_uri": "https://localhost:8080/"
        },
        "id": "aEnoLzUX15xS",
        "outputId": "df724bb8-ea00-4e74-d6ac-de9145e5dd89"
      },
      "source": [
        "from google.colab import drive\n",
        "drive.mount('/content/drive')"
      ],
      "execution_count": 2,
      "outputs": [
        {
          "output_type": "stream",
          "text": [
            "Mounted at /content/drive\n"
          ],
          "name": "stdout"
        }
      ]
    },
    {
      "cell_type": "code",
      "metadata": {
        "colab": {
          "base_uri": "https://localhost:8080/"
        },
        "id": "ruyLb4r115Lz",
        "outputId": "43b419a9-d904-4751-b6c1-d7ee33aeeb93"
      },
      "source": [
        "## You will need to download the CSV files from here: \n",
        "\n",
        "\n",
        "\n",
        "imdb_movies = pd.read_csv('/content/drive/MyDrive/datasets/datasets_kaggle/IMDB/IMDb_movies.csv')"
      ],
      "execution_count": 3,
      "outputs": [
        {
          "output_type": "stream",
          "text": [
            "/usr/local/lib/python3.7/dist-packages/IPython/core/interactiveshell.py:2718: DtypeWarning: Columns (3) have mixed types.Specify dtype option on import or set low_memory=False.\n",
            "  interactivity=interactivity, compiler=compiler, result=result)\n"
          ],
          "name": "stderr"
        }
      ]
    },
    {
      "cell_type": "code",
      "metadata": {
        "colab": {
          "base_uri": "https://localhost:8080/"
        },
        "id": "XBUnjrUK2vG6",
        "outputId": "0a3d6ea4-0eb8-4564-a7fa-16ee86c1716e"
      },
      "source": [
        "imdb_movies.title.nunique()\n"
      ],
      "execution_count": 7,
      "outputs": [
        {
          "output_type": "execute_result",
          "data": {
            "text/plain": [
              "82094"
            ]
          },
          "metadata": {
            "tags": []
          },
          "execution_count": 7
        }
      ]
    },
    {
      "cell_type": "code",
      "metadata": {
        "id": "2wIladmEsBcb"
      },
      "source": [
        "imdb_movies.loc[(imdb_movies['original_title'].str.contains(\"Rings\")),:]"
      ],
      "execution_count": null,
      "outputs": []
    },
    {
      "cell_type": "code",
      "metadata": {
        "id": "jIdQe4jhkBQf"
      },
      "source": [
        "# drop unnecessary columns\n",
        "\n",
        "imdb_movies.drop(['date_published', 'metascore', 'reviews_from_users', 'reviews_from_critics','budget','usa_gross_income'], axis = 1, inplace = True)\n"
      ],
      "execution_count": 15,
      "outputs": []
    },
    {
      "cell_type": "code",
      "metadata": {
        "colab": {
          "base_uri": "https://localhost:8080/"
        },
        "id": "ODBp4Zna7J8c",
        "outputId": "b194deeb-9c58-40bb-dc33-5059ae466e55"
      },
      "source": [
        "imdb_movies['language'].value_counts()"
      ],
      "execution_count": 16,
      "outputs": [
        {
          "output_type": "execute_result",
          "data": {
            "text/plain": [
              "English                                                                                35939\n",
              "French                                                                                  3903\n",
              "Spanish                                                                                 2831\n",
              "Japanese                                                                                2826\n",
              "Italian                                                                                 2731\n",
              "                                                                                       ...  \n",
              "Tupi, German, Portuguese, French                                                           1\n",
              "English, Swahili, Nama, Xhosa, Korean                                                      1\n",
              "English, Greek, Bulgarian, Albanian, Serbian, Romanian, Kurdish, Macedonian, German        1\n",
              "English, Arabic, Italian                                                                   1\n",
              "English, Mandarin, Thai                                                                    1\n",
              "Name: language, Length: 4377, dtype: int64"
            ]
          },
          "metadata": {
            "tags": []
          },
          "execution_count": 16
        }
      ]
    },
    {
      "cell_type": "code",
      "metadata": {
        "colab": {
          "base_uri": "https://localhost:8080/",
          "height": 677
        },
        "id": "rCUYOJjstq2z",
        "outputId": "19b5f2a3-5b98-4162-bc8b-38778b29b8fa"
      },
      "source": [
        "imdb_movies.head()"
      ],
      "execution_count": 17,
      "outputs": [
        {
          "output_type": "execute_result",
          "data": {
            "text/html": [
              "<div>\n",
              "<style scoped>\n",
              "    .dataframe tbody tr th:only-of-type {\n",
              "        vertical-align: middle;\n",
              "    }\n",
              "\n",
              "    .dataframe tbody tr th {\n",
              "        vertical-align: top;\n",
              "    }\n",
              "\n",
              "    .dataframe thead th {\n",
              "        text-align: right;\n",
              "    }\n",
              "</style>\n",
              "<table border=\"1\" class=\"dataframe\">\n",
              "  <thead>\n",
              "    <tr style=\"text-align: right;\">\n",
              "      <th></th>\n",
              "      <th>imdb_title_id</th>\n",
              "      <th>title</th>\n",
              "      <th>original_title</th>\n",
              "      <th>year</th>\n",
              "      <th>genre</th>\n",
              "      <th>duration</th>\n",
              "      <th>country</th>\n",
              "      <th>language</th>\n",
              "      <th>director</th>\n",
              "      <th>writer</th>\n",
              "      <th>production_company</th>\n",
              "      <th>actors</th>\n",
              "      <th>description</th>\n",
              "      <th>avg_vote</th>\n",
              "      <th>votes</th>\n",
              "      <th>worlwide_gross_income</th>\n",
              "    </tr>\n",
              "  </thead>\n",
              "  <tbody>\n",
              "    <tr>\n",
              "      <th>0</th>\n",
              "      <td>tt0000009</td>\n",
              "      <td>Miss Jerry</td>\n",
              "      <td>Miss Jerry</td>\n",
              "      <td>1894</td>\n",
              "      <td>Romance</td>\n",
              "      <td>45</td>\n",
              "      <td>USA</td>\n",
              "      <td>None</td>\n",
              "      <td>Alexander Black</td>\n",
              "      <td>Alexander Black</td>\n",
              "      <td>Alexander Black Photoplays</td>\n",
              "      <td>Blanche Bayliss, William Courtenay, Chauncey D...</td>\n",
              "      <td>The adventures of a female reporter in the 1890s.</td>\n",
              "      <td>5.9</td>\n",
              "      <td>154</td>\n",
              "      <td>NaN</td>\n",
              "    </tr>\n",
              "    <tr>\n",
              "      <th>1</th>\n",
              "      <td>tt0000574</td>\n",
              "      <td>The Story of the Kelly Gang</td>\n",
              "      <td>The Story of the Kelly Gang</td>\n",
              "      <td>1906</td>\n",
              "      <td>Biography, Crime, Drama</td>\n",
              "      <td>70</td>\n",
              "      <td>Australia</td>\n",
              "      <td>None</td>\n",
              "      <td>Charles Tait</td>\n",
              "      <td>Charles Tait</td>\n",
              "      <td>J. and N. Tait</td>\n",
              "      <td>Elizabeth Tait, John Tait, Norman Campbell, Be...</td>\n",
              "      <td>True story of notorious Australian outlaw Ned ...</td>\n",
              "      <td>6.1</td>\n",
              "      <td>589</td>\n",
              "      <td>NaN</td>\n",
              "    </tr>\n",
              "    <tr>\n",
              "      <th>2</th>\n",
              "      <td>tt0001892</td>\n",
              "      <td>Den sorte drøm</td>\n",
              "      <td>Den sorte drøm</td>\n",
              "      <td>1911</td>\n",
              "      <td>Drama</td>\n",
              "      <td>53</td>\n",
              "      <td>Germany, Denmark</td>\n",
              "      <td>NaN</td>\n",
              "      <td>Urban Gad</td>\n",
              "      <td>Urban Gad, Gebhard Schätzler-Perasini</td>\n",
              "      <td>Fotorama</td>\n",
              "      <td>Asta Nielsen, Valdemar Psilander, Gunnar Helse...</td>\n",
              "      <td>Two men of high rank are both wooing the beaut...</td>\n",
              "      <td>5.8</td>\n",
              "      <td>188</td>\n",
              "      <td>NaN</td>\n",
              "    </tr>\n",
              "    <tr>\n",
              "      <th>3</th>\n",
              "      <td>tt0002101</td>\n",
              "      <td>Cleopatra</td>\n",
              "      <td>Cleopatra</td>\n",
              "      <td>1912</td>\n",
              "      <td>Drama, History</td>\n",
              "      <td>100</td>\n",
              "      <td>USA</td>\n",
              "      <td>English</td>\n",
              "      <td>Charles L. Gaskill</td>\n",
              "      <td>Victorien Sardou</td>\n",
              "      <td>Helen Gardner Picture Players</td>\n",
              "      <td>Helen Gardner, Pearl Sindelar, Miss Fielding, ...</td>\n",
              "      <td>The fabled queen of Egypt's affair with Roman ...</td>\n",
              "      <td>5.2</td>\n",
              "      <td>446</td>\n",
              "      <td>NaN</td>\n",
              "    </tr>\n",
              "    <tr>\n",
              "      <th>4</th>\n",
              "      <td>tt0002130</td>\n",
              "      <td>L'Inferno</td>\n",
              "      <td>L'Inferno</td>\n",
              "      <td>1911</td>\n",
              "      <td>Adventure, Drama, Fantasy</td>\n",
              "      <td>68</td>\n",
              "      <td>Italy</td>\n",
              "      <td>Italian</td>\n",
              "      <td>Francesco Bertolini, Adolfo Padovan</td>\n",
              "      <td>Dante Alighieri</td>\n",
              "      <td>Milano Film</td>\n",
              "      <td>Salvatore Papa, Arturo Pirovano, Giuseppe de L...</td>\n",
              "      <td>Loosely adapted from Dante's Divine Comedy and...</td>\n",
              "      <td>7.0</td>\n",
              "      <td>2237</td>\n",
              "      <td>NaN</td>\n",
              "    </tr>\n",
              "  </tbody>\n",
              "</table>\n",
              "</div>"
            ],
            "text/plain": [
              "  imdb_title_id                        title  ... votes worlwide_gross_income\n",
              "0     tt0000009                   Miss Jerry  ...   154                   NaN\n",
              "1     tt0000574  The Story of the Kelly Gang  ...   589                   NaN\n",
              "2     tt0001892               Den sorte drøm  ...   188                   NaN\n",
              "3     tt0002101                    Cleopatra  ...   446                   NaN\n",
              "4     tt0002130                    L'Inferno  ...  2237                   NaN\n",
              "\n",
              "[5 rows x 16 columns]"
            ]
          },
          "metadata": {
            "tags": []
          },
          "execution_count": 17
        }
      ]
    },
    {
      "cell_type": "code",
      "metadata": {
        "colab": {
          "base_uri": "https://localhost:8080/"
        },
        "id": "L4-SCBo17KE6",
        "outputId": "77c8efc2-ada7-4689-b66c-7ec820724232"
      },
      "source": [
        "imdb_movies.language.str.contains('French').value_counts()"
      ],
      "execution_count": 34,
      "outputs": [
        {
          "output_type": "execute_result",
          "data": {
            "text/plain": [
              "False    76864\n",
              "True      8158\n",
              "Name: language, dtype: int64"
            ]
          },
          "metadata": {
            "tags": []
          },
          "execution_count": 34
        }
      ]
    },
    {
      "cell_type": "code",
      "metadata": {
        "colab": {
          "base_uri": "https://localhost:8080/",
          "height": 1000
        },
        "id": "VHMv7Qotwi3k",
        "outputId": "9dec566e-8165-40ea-d999-ed6fbfbcdc6d"
      },
      "source": [
        "imdb_movies"
      ],
      "execution_count": 35,
      "outputs": [
        {
          "output_type": "execute_result",
          "data": {
            "text/html": [
              "<div>\n",
              "<style scoped>\n",
              "    .dataframe tbody tr th:only-of-type {\n",
              "        vertical-align: middle;\n",
              "    }\n",
              "\n",
              "    .dataframe tbody tr th {\n",
              "        vertical-align: top;\n",
              "    }\n",
              "\n",
              "    .dataframe thead th {\n",
              "        text-align: right;\n",
              "    }\n",
              "</style>\n",
              "<table border=\"1\" class=\"dataframe\">\n",
              "  <thead>\n",
              "    <tr style=\"text-align: right;\">\n",
              "      <th></th>\n",
              "      <th>imdb_title_id</th>\n",
              "      <th>title</th>\n",
              "      <th>original_title</th>\n",
              "      <th>year</th>\n",
              "      <th>genre</th>\n",
              "      <th>duration</th>\n",
              "      <th>country</th>\n",
              "      <th>language</th>\n",
              "      <th>director</th>\n",
              "      <th>writer</th>\n",
              "      <th>production_company</th>\n",
              "      <th>actors</th>\n",
              "      <th>description</th>\n",
              "      <th>avg_vote</th>\n",
              "      <th>votes</th>\n",
              "      <th>worlwide_gross_income</th>\n",
              "    </tr>\n",
              "  </thead>\n",
              "  <tbody>\n",
              "    <tr>\n",
              "      <th>0</th>\n",
              "      <td>tt0000009</td>\n",
              "      <td>Miss Jerry</td>\n",
              "      <td>Miss Jerry</td>\n",
              "      <td>1894</td>\n",
              "      <td>Romance</td>\n",
              "      <td>45</td>\n",
              "      <td>USA</td>\n",
              "      <td>None</td>\n",
              "      <td>Alexander Black</td>\n",
              "      <td>Alexander Black</td>\n",
              "      <td>Alexander Black Photoplays</td>\n",
              "      <td>Blanche Bayliss, William Courtenay, Chauncey D...</td>\n",
              "      <td>The adventures of a female reporter in the 1890s.</td>\n",
              "      <td>5.9</td>\n",
              "      <td>154</td>\n",
              "      <td>NaN</td>\n",
              "    </tr>\n",
              "    <tr>\n",
              "      <th>1</th>\n",
              "      <td>tt0000574</td>\n",
              "      <td>The Story of the Kelly Gang</td>\n",
              "      <td>The Story of the Kelly Gang</td>\n",
              "      <td>1906</td>\n",
              "      <td>Biography, Crime, Drama</td>\n",
              "      <td>70</td>\n",
              "      <td>Australia</td>\n",
              "      <td>None</td>\n",
              "      <td>Charles Tait</td>\n",
              "      <td>Charles Tait</td>\n",
              "      <td>J. and N. Tait</td>\n",
              "      <td>Elizabeth Tait, John Tait, Norman Campbell, Be...</td>\n",
              "      <td>True story of notorious Australian outlaw Ned ...</td>\n",
              "      <td>6.1</td>\n",
              "      <td>589</td>\n",
              "      <td>NaN</td>\n",
              "    </tr>\n",
              "    <tr>\n",
              "      <th>2</th>\n",
              "      <td>tt0001892</td>\n",
              "      <td>Den sorte drøm</td>\n",
              "      <td>Den sorte drøm</td>\n",
              "      <td>1911</td>\n",
              "      <td>Drama</td>\n",
              "      <td>53</td>\n",
              "      <td>Germany, Denmark</td>\n",
              "      <td>NaN</td>\n",
              "      <td>Urban Gad</td>\n",
              "      <td>Urban Gad, Gebhard Schätzler-Perasini</td>\n",
              "      <td>Fotorama</td>\n",
              "      <td>Asta Nielsen, Valdemar Psilander, Gunnar Helse...</td>\n",
              "      <td>Two men of high rank are both wooing the beaut...</td>\n",
              "      <td>5.8</td>\n",
              "      <td>188</td>\n",
              "      <td>NaN</td>\n",
              "    </tr>\n",
              "    <tr>\n",
              "      <th>3</th>\n",
              "      <td>tt0002101</td>\n",
              "      <td>Cleopatra</td>\n",
              "      <td>Cleopatra</td>\n",
              "      <td>1912</td>\n",
              "      <td>Drama, History</td>\n",
              "      <td>100</td>\n",
              "      <td>USA</td>\n",
              "      <td>English</td>\n",
              "      <td>Charles L. Gaskill</td>\n",
              "      <td>Victorien Sardou</td>\n",
              "      <td>Helen Gardner Picture Players</td>\n",
              "      <td>Helen Gardner, Pearl Sindelar, Miss Fielding, ...</td>\n",
              "      <td>The fabled queen of Egypt's affair with Roman ...</td>\n",
              "      <td>5.2</td>\n",
              "      <td>446</td>\n",
              "      <td>NaN</td>\n",
              "    </tr>\n",
              "    <tr>\n",
              "      <th>4</th>\n",
              "      <td>tt0002130</td>\n",
              "      <td>L'Inferno</td>\n",
              "      <td>L'Inferno</td>\n",
              "      <td>1911</td>\n",
              "      <td>Adventure, Drama, Fantasy</td>\n",
              "      <td>68</td>\n",
              "      <td>Italy</td>\n",
              "      <td>Italian</td>\n",
              "      <td>Francesco Bertolini, Adolfo Padovan</td>\n",
              "      <td>Dante Alighieri</td>\n",
              "      <td>Milano Film</td>\n",
              "      <td>Salvatore Papa, Arturo Pirovano, Giuseppe de L...</td>\n",
              "      <td>Loosely adapted from Dante's Divine Comedy and...</td>\n",
              "      <td>7.0</td>\n",
              "      <td>2237</td>\n",
              "      <td>NaN</td>\n",
              "    </tr>\n",
              "    <tr>\n",
              "      <th>...</th>\n",
              "      <td>...</td>\n",
              "      <td>...</td>\n",
              "      <td>...</td>\n",
              "      <td>...</td>\n",
              "      <td>...</td>\n",
              "      <td>...</td>\n",
              "      <td>...</td>\n",
              "      <td>...</td>\n",
              "      <td>...</td>\n",
              "      <td>...</td>\n",
              "      <td>...</td>\n",
              "      <td>...</td>\n",
              "      <td>...</td>\n",
              "      <td>...</td>\n",
              "      <td>...</td>\n",
              "      <td>...</td>\n",
              "    </tr>\n",
              "    <tr>\n",
              "      <th>85850</th>\n",
              "      <td>tt9908390</td>\n",
              "      <td>Le lion</td>\n",
              "      <td>Le lion</td>\n",
              "      <td>2020</td>\n",
              "      <td>Comedy</td>\n",
              "      <td>95</td>\n",
              "      <td>France, Belgium</td>\n",
              "      <td>French</td>\n",
              "      <td>Ludovic Colbeau-Justin</td>\n",
              "      <td>Alexandre Coquelle, Matthieu Le Naour</td>\n",
              "      <td>Monkey Pack Films</td>\n",
              "      <td>Dany Boon, Philippe Katerine, Anne Serra, Samu...</td>\n",
              "      <td>A psychiatric hospital patient pretends to be ...</td>\n",
              "      <td>5.3</td>\n",
              "      <td>398</td>\n",
              "      <td>$ 3507171</td>\n",
              "    </tr>\n",
              "    <tr>\n",
              "      <th>85851</th>\n",
              "      <td>tt9911196</td>\n",
              "      <td>De Beentjes van Sint-Hildegard</td>\n",
              "      <td>De Beentjes van Sint-Hildegard</td>\n",
              "      <td>2020</td>\n",
              "      <td>Comedy, Drama</td>\n",
              "      <td>103</td>\n",
              "      <td>Netherlands</td>\n",
              "      <td>German, Dutch</td>\n",
              "      <td>Johan Nijenhuis</td>\n",
              "      <td>Radek Bajgar, Herman Finkers</td>\n",
              "      <td>Johan Nijenhuis &amp; Co</td>\n",
              "      <td>Herman Finkers, Johanna ter Steege, Leonie ter...</td>\n",
              "      <td>A middle-aged veterinary surgeon believes his ...</td>\n",
              "      <td>7.7</td>\n",
              "      <td>724</td>\n",
              "      <td>$ 7299062</td>\n",
              "    </tr>\n",
              "    <tr>\n",
              "      <th>85852</th>\n",
              "      <td>tt9911774</td>\n",
              "      <td>Padmavyuhathile Abhimanyu</td>\n",
              "      <td>Padmavyuhathile Abhimanyu</td>\n",
              "      <td>2019</td>\n",
              "      <td>Drama</td>\n",
              "      <td>130</td>\n",
              "      <td>India</td>\n",
              "      <td>Malayalam</td>\n",
              "      <td>Vineesh Aaradya</td>\n",
              "      <td>Vineesh Aaradya, Vineesh Aaradya</td>\n",
              "      <td>RMCC Productions</td>\n",
              "      <td>Anoop Chandran, Indrans, Sona Nair, Simon Brit...</td>\n",
              "      <td>NaN</td>\n",
              "      <td>7.9</td>\n",
              "      <td>265</td>\n",
              "      <td>NaN</td>\n",
              "    </tr>\n",
              "    <tr>\n",
              "      <th>85853</th>\n",
              "      <td>tt9914286</td>\n",
              "      <td>Sokagin Çocuklari</td>\n",
              "      <td>Sokagin Çocuklari</td>\n",
              "      <td>2019</td>\n",
              "      <td>Drama, Family</td>\n",
              "      <td>98</td>\n",
              "      <td>Turkey</td>\n",
              "      <td>Turkish</td>\n",
              "      <td>Ahmet Faik Akinci</td>\n",
              "      <td>Ahmet Faik Akinci, Kasim Uçkan</td>\n",
              "      <td>Gizem Ajans</td>\n",
              "      <td>Ahmet Faik Akinci, Belma Mamati, Metin Keçeci,...</td>\n",
              "      <td>NaN</td>\n",
              "      <td>6.4</td>\n",
              "      <td>194</td>\n",
              "      <td>$ 2833</td>\n",
              "    </tr>\n",
              "    <tr>\n",
              "      <th>85854</th>\n",
              "      <td>tt9914942</td>\n",
              "      <td>La vida sense la Sara Amat</td>\n",
              "      <td>La vida sense la Sara Amat</td>\n",
              "      <td>2019</td>\n",
              "      <td>Drama</td>\n",
              "      <td>74</td>\n",
              "      <td>Spain</td>\n",
              "      <td>Catalan</td>\n",
              "      <td>Laura Jou</td>\n",
              "      <td>Coral Cruz, Pep Puig</td>\n",
              "      <td>La Xarxa de Comunicació Local</td>\n",
              "      <td>Maria Morera Colomer, Biel Rossell Pelfort, Is...</td>\n",
              "      <td>Pep, a 13-year-old boy, is in love with a girl...</td>\n",
              "      <td>6.7</td>\n",
              "      <td>102</td>\n",
              "      <td>$ 59794</td>\n",
              "    </tr>\n",
              "  </tbody>\n",
              "</table>\n",
              "<p>85855 rows × 16 columns</p>\n",
              "</div>"
            ],
            "text/plain": [
              "      imdb_title_id  ... worlwide_gross_income\n",
              "0         tt0000009  ...                   NaN\n",
              "1         tt0000574  ...                   NaN\n",
              "2         tt0001892  ...                   NaN\n",
              "3         tt0002101  ...                   NaN\n",
              "4         tt0002130  ...                   NaN\n",
              "...             ...  ...                   ...\n",
              "85850     tt9908390  ...             $ 3507171\n",
              "85851     tt9911196  ...             $ 7299062\n",
              "85852     tt9911774  ...                   NaN\n",
              "85853     tt9914286  ...                $ 2833\n",
              "85854     tt9914942  ...               $ 59794\n",
              "\n",
              "[85855 rows x 16 columns]"
            ]
          },
          "metadata": {
            "tags": []
          },
          "execution_count": 35
        }
      ]
    },
    {
      "cell_type": "code",
      "metadata": {
        "id": "369R_CAI7KNU"
      },
      "source": [
        "# Let's get just movies in with English ot French in the language\n",
        "\n",
        "imdb_movies_eng_fr = imdb_movies.loc[(imdb_movies['language'].str.contains(\"English\")) | (imdb_movies['language'].str.contains(\"French\"))]"
      ],
      "execution_count": 36,
      "outputs": []
    },
    {
      "cell_type": "code",
      "metadata": {
        "id": "7JgLvKtbw8z-"
      },
      "source": [
        "# We still have Titanic\n",
        "\n",
        "imdb_movies_eng_fr.loc[(imdb_movies_eng_fr['original_title'].str.contains(\"Titanic\")),:]"
      ],
      "execution_count": null,
      "outputs": []
    },
    {
      "cell_type": "code",
      "metadata": {
        "id": "S2Jg2mNE7KWX"
      },
      "source": [
        "# Over 5000 votes for English, over 500 for French\n",
        "\n",
        "imdb_movies_eng_fr_filt = imdb_movies_eng_fr[((imdb_movies_eng_fr.votes > 5000) & (imdb_movies_eng_fr['language'].str.contains(\"English\")))| \n",
        "                                             ((imdb_movies_eng_fr.votes > 500) & (imdb_movies_eng_fr['language'].str.contains(\"French\")))]\n"
      ],
      "execution_count": 43,
      "outputs": []
    },
    {
      "cell_type": "code",
      "metadata": {
        "id": "g3x_1cPCwEqE"
      },
      "source": [
        "imdb_movies_eng_fr_filt"
      ],
      "execution_count": null,
      "outputs": []
    },
    {
      "cell_type": "code",
      "metadata": {
        "id": "WW924hzFx86T"
      },
      "source": [
        "# We still have Titanic\n",
        "\n",
        "imdb_movies_eng_fr_filt.loc[(imdb_movies_eng_fr_filt['original_title'].str.contains(\"Titanic\")),:]"
      ],
      "execution_count": null,
      "outputs": []
    },
    {
      "cell_type": "code",
      "metadata": {
        "colab": {
          "base_uri": "https://localhost:8080/"
        },
        "id": "2KI-Nrtl_yjX",
        "outputId": "561f632a-2420-4441-c948-0a19b0802c50"
      },
      "source": [
        "# we still have a good proportion of French films \n",
        "\n",
        "imdb_movies_eng_fr_filt.language.str.contains('French').value_counts()"
      ],
      "execution_count": 47,
      "outputs": [
        {
          "output_type": "execute_result",
          "data": {
            "text/plain": [
              "False    8942\n",
              "True     4622\n",
              "Name: language, dtype: int64"
            ]
          },
          "metadata": {
            "tags": []
          },
          "execution_count": 47
        }
      ]
    },
    {
      "cell_type": "code",
      "metadata": {
        "colab": {
          "base_uri": "https://localhost:8080/",
          "height": 1000
        },
        "id": "fGuHsyEuAQCw",
        "outputId": "27bab731-8f90-46db-ee7d-6ed5e6562905"
      },
      "source": [
        "imdb_movies_eng_fr_filt.sort_values(['votes'], ascending = False)"
      ],
      "execution_count": 48,
      "outputs": [
        {
          "output_type": "execute_result",
          "data": {
            "text/html": [
              "<div>\n",
              "<style scoped>\n",
              "    .dataframe tbody tr th:only-of-type {\n",
              "        vertical-align: middle;\n",
              "    }\n",
              "\n",
              "    .dataframe tbody tr th {\n",
              "        vertical-align: top;\n",
              "    }\n",
              "\n",
              "    .dataframe thead th {\n",
              "        text-align: right;\n",
              "    }\n",
              "</style>\n",
              "<table border=\"1\" class=\"dataframe\">\n",
              "  <thead>\n",
              "    <tr style=\"text-align: right;\">\n",
              "      <th></th>\n",
              "      <th>imdb_title_id</th>\n",
              "      <th>title</th>\n",
              "      <th>original_title</th>\n",
              "      <th>year</th>\n",
              "      <th>genre</th>\n",
              "      <th>duration</th>\n",
              "      <th>country</th>\n",
              "      <th>language</th>\n",
              "      <th>director</th>\n",
              "      <th>writer</th>\n",
              "      <th>production_company</th>\n",
              "      <th>actors</th>\n",
              "      <th>description</th>\n",
              "      <th>avg_vote</th>\n",
              "      <th>votes</th>\n",
              "      <th>worlwide_gross_income</th>\n",
              "    </tr>\n",
              "  </thead>\n",
              "  <tbody>\n",
              "    <tr>\n",
              "      <th>28453</th>\n",
              "      <td>tt0111161</td>\n",
              "      <td>Le ali della libertà</td>\n",
              "      <td>The Shawshank Redemption</td>\n",
              "      <td>1994</td>\n",
              "      <td>Drama</td>\n",
              "      <td>142</td>\n",
              "      <td>USA</td>\n",
              "      <td>English</td>\n",
              "      <td>Frank Darabont</td>\n",
              "      <td>Stephen King, Frank Darabont</td>\n",
              "      <td>Castle Rock Entertainment</td>\n",
              "      <td>Tim Robbins, Morgan Freeman, Bob Gunton, Willi...</td>\n",
              "      <td>Two imprisoned men bond over a number of years...</td>\n",
              "      <td>9.3</td>\n",
              "      <td>2278845</td>\n",
              "      <td>$ 28815245</td>\n",
              "    </tr>\n",
              "    <tr>\n",
              "      <th>48078</th>\n",
              "      <td>tt0468569</td>\n",
              "      <td>Il cavaliere oscuro</td>\n",
              "      <td>The Dark Knight</td>\n",
              "      <td>2008</td>\n",
              "      <td>Action, Crime, Drama</td>\n",
              "      <td>152</td>\n",
              "      <td>USA, UK</td>\n",
              "      <td>English, Mandarin</td>\n",
              "      <td>Christopher Nolan</td>\n",
              "      <td>Jonathan Nolan, Christopher Nolan</td>\n",
              "      <td>Warner Bros.</td>\n",
              "      <td>Christian Bale, Heath Ledger, Aaron Eckhart, M...</td>\n",
              "      <td>When the menace known as the Joker wreaks havo...</td>\n",
              "      <td>9.0</td>\n",
              "      <td>2241615</td>\n",
              "      <td>$ 1005455211</td>\n",
              "    </tr>\n",
              "    <tr>\n",
              "      <th>57475</th>\n",
              "      <td>tt1375666</td>\n",
              "      <td>Inception</td>\n",
              "      <td>Inception</td>\n",
              "      <td>2010</td>\n",
              "      <td>Action, Adventure, Sci-Fi</td>\n",
              "      <td>148</td>\n",
              "      <td>USA, UK</td>\n",
              "      <td>English, Japanese, French</td>\n",
              "      <td>Christopher Nolan</td>\n",
              "      <td>Christopher Nolan</td>\n",
              "      <td>Warner Bros.</td>\n",
              "      <td>Leonardo DiCaprio, Joseph Gordon-Levitt, Ellen...</td>\n",
              "      <td>A thief who steals corporate secrets through t...</td>\n",
              "      <td>8.8</td>\n",
              "      <td>2002816</td>\n",
              "      <td>$ 869784991</td>\n",
              "    </tr>\n",
              "    <tr>\n",
              "      <th>32487</th>\n",
              "      <td>tt0137523</td>\n",
              "      <td>Fight Club</td>\n",
              "      <td>Fight Club</td>\n",
              "      <td>1999</td>\n",
              "      <td>Drama</td>\n",
              "      <td>139</td>\n",
              "      <td>USA, Germany</td>\n",
              "      <td>English</td>\n",
              "      <td>David Fincher</td>\n",
              "      <td>Chuck Palahniuk, Jim Uhls</td>\n",
              "      <td>Fox 2000 Pictures</td>\n",
              "      <td>Edward Norton, Brad Pitt, Meat Loaf, Zach Gren...</td>\n",
              "      <td>An insomniac office worker and a devil-may-car...</td>\n",
              "      <td>8.8</td>\n",
              "      <td>1807440</td>\n",
              "      <td>$ 101218804</td>\n",
              "    </tr>\n",
              "    <tr>\n",
              "      <th>28381</th>\n",
              "      <td>tt0110912</td>\n",
              "      <td>Pulp Fiction</td>\n",
              "      <td>Pulp Fiction</td>\n",
              "      <td>1994</td>\n",
              "      <td>Crime, Drama</td>\n",
              "      <td>154</td>\n",
              "      <td>USA</td>\n",
              "      <td>English, Spanish, French</td>\n",
              "      <td>Quentin Tarantino</td>\n",
              "      <td>Quentin Tarantino, Roger Avary</td>\n",
              "      <td>Miramax</td>\n",
              "      <td>Tim Roth, Amanda Plummer, Laura Lovelace, John...</td>\n",
              "      <td>The lives of two mob hitmen, a boxer, a gangst...</td>\n",
              "      <td>8.9</td>\n",
              "      <td>1780147</td>\n",
              "      <td>$ 222831817</td>\n",
              "    </tr>\n",
              "    <tr>\n",
              "      <th>...</th>\n",
              "      <td>...</td>\n",
              "      <td>...</td>\n",
              "      <td>...</td>\n",
              "      <td>...</td>\n",
              "      <td>...</td>\n",
              "      <td>...</td>\n",
              "      <td>...</td>\n",
              "      <td>...</td>\n",
              "      <td>...</td>\n",
              "      <td>...</td>\n",
              "      <td>...</td>\n",
              "      <td>...</td>\n",
              "      <td>...</td>\n",
              "      <td>...</td>\n",
              "      <td>...</td>\n",
              "      <td>...</td>\n",
              "    </tr>\n",
              "    <tr>\n",
              "      <th>52135</th>\n",
              "      <td>tt0991350</td>\n",
              "      <td>Les randonneurs à Saint-Tropez</td>\n",
              "      <td>Les randonneurs à Saint-Tropez</td>\n",
              "      <td>2008</td>\n",
              "      <td>Comedy</td>\n",
              "      <td>105</td>\n",
              "      <td>France</td>\n",
              "      <td>French</td>\n",
              "      <td>Philippe Harel</td>\n",
              "      <td>Eric Assous, Sylvie Bourgeois</td>\n",
              "      <td>K2 SA</td>\n",
              "      <td>Karin Viard, Géraldine Pailhas, Benoît Poelvoo...</td>\n",
              "      <td>The trekkers meet again ten years later, at St...</td>\n",
              "      <td>4.5</td>\n",
              "      <td>501</td>\n",
              "      <td>$ 3847751</td>\n",
              "    </tr>\n",
              "    <tr>\n",
              "      <th>26528</th>\n",
              "      <td>tt0104105</td>\n",
              "      <td>Diên Biên Phú</td>\n",
              "      <td>Diên Biên Phú</td>\n",
              "      <td>1992</td>\n",
              "      <td>Drama, War</td>\n",
              "      <td>140</td>\n",
              "      <td>France</td>\n",
              "      <td>French</td>\n",
              "      <td>Pierre Schoendoerffer</td>\n",
              "      <td>Pierre Schoendoerffer</td>\n",
              "      <td>Flach Film</td>\n",
              "      <td>Donald Pleasence, Patrick Catalifo, Jean-Franç...</td>\n",
              "      <td>An American reporter finds himself in the midd...</td>\n",
              "      <td>6.2</td>\n",
              "      <td>501</td>\n",
              "      <td>NaN</td>\n",
              "    </tr>\n",
              "    <tr>\n",
              "      <th>55297</th>\n",
              "      <td>tt1196329</td>\n",
              "      <td>La guerre des miss</td>\n",
              "      <td>La guerre des miss</td>\n",
              "      <td>2008</td>\n",
              "      <td>Comedy</td>\n",
              "      <td>89</td>\n",
              "      <td>France</td>\n",
              "      <td>French</td>\n",
              "      <td>Patrice Leconte</td>\n",
              "      <td>Fred Cavayé, Guillaume Lemans</td>\n",
              "      <td>Gaumont</td>\n",
              "      <td>Benoît Poelvoorde, Olivia Bonamy, Jacques Math...</td>\n",
              "      <td>A ski resort town struggles to become the top ...</td>\n",
              "      <td>5.2</td>\n",
              "      <td>501</td>\n",
              "      <td>$ 1746131</td>\n",
              "    </tr>\n",
              "    <tr>\n",
              "      <th>61225</th>\n",
              "      <td>tt1718801</td>\n",
              "      <td>Il reste du jambon?</td>\n",
              "      <td>Il reste du jambon?</td>\n",
              "      <td>2010</td>\n",
              "      <td>Comedy, Romance</td>\n",
              "      <td>90</td>\n",
              "      <td>France</td>\n",
              "      <td>French, Arabic</td>\n",
              "      <td>Anne Depétrini</td>\n",
              "      <td>Anne Depétrini, Anne Depétrini</td>\n",
              "      <td>4 Mecs à Lunettes Production</td>\n",
              "      <td>Ramzy Bedia, Anne Marivin, Marie-France Pisier...</td>\n",
              "      <td>When Justine Lacroix a charming TV reporter me...</td>\n",
              "      <td>4.6</td>\n",
              "      <td>501</td>\n",
              "      <td>$ 6846472</td>\n",
              "    </tr>\n",
              "    <tr>\n",
              "      <th>44328</th>\n",
              "      <td>tt0380344</td>\n",
              "      <td>Elvis Gratton 3: Le retour d'Elvis Wong</td>\n",
              "      <td>Elvis Gratton 3: Le retour d'Elvis Wong</td>\n",
              "      <td>2004</td>\n",
              "      <td>Comedy, Music</td>\n",
              "      <td>105</td>\n",
              "      <td>Canada</td>\n",
              "      <td>French</td>\n",
              "      <td>Pierre Falardeau</td>\n",
              "      <td>Pierre Falardeau, Julien Poulin</td>\n",
              "      <td>NaN</td>\n",
              "      <td>Julien Poulin, Yves Trudel, Jacques Allard, Lo...</td>\n",
              "      <td>NaN</td>\n",
              "      <td>4.8</td>\n",
              "      <td>501</td>\n",
              "      <td>$ 1838920</td>\n",
              "    </tr>\n",
              "  </tbody>\n",
              "</table>\n",
              "<p>13564 rows × 16 columns</p>\n",
              "</div>"
            ],
            "text/plain": [
              "      imdb_title_id  ... worlwide_gross_income\n",
              "28453     tt0111161  ...            $ 28815245\n",
              "48078     tt0468569  ...          $ 1005455211\n",
              "57475     tt1375666  ...           $ 869784991\n",
              "32487     tt0137523  ...           $ 101218804\n",
              "28381     tt0110912  ...           $ 222831817\n",
              "...             ...  ...                   ...\n",
              "52135     tt0991350  ...             $ 3847751\n",
              "26528     tt0104105  ...                   NaN\n",
              "55297     tt1196329  ...             $ 1746131\n",
              "61225     tt1718801  ...             $ 6846472\n",
              "44328     tt0380344  ...             $ 1838920\n",
              "\n",
              "[13564 rows x 16 columns]"
            ]
          },
          "metadata": {
            "tags": []
          },
          "execution_count": 48
        }
      ]
    },
    {
      "cell_type": "code",
      "metadata": {
        "id": "xiaWhXa5zHtr"
      },
      "source": [
        "# Final Checks:\n",
        "\n",
        "imdb_movies_eng_fr_filt.loc[(imdb_movies_eng_fr_filt['original_title'].str.contains(\"Potter\")),:]"
      ],
      "execution_count": null,
      "outputs": []
    },
    {
      "cell_type": "code",
      "metadata": {
        "id": "4kA9knPBzLRx"
      },
      "source": [
        "imdb_movies_eng_fr_filt.loc[(imdb_movies_eng_fr_filt['original_title'].str.contains(\"Titanic\")),:]"
      ],
      "execution_count": null,
      "outputs": []
    },
    {
      "cell_type": "code",
      "metadata": {
        "id": "-bNSVGWbzLUY"
      },
      "source": [
        "imdb_movies_eng_fr_filt.loc[(imdb_movies_eng_fr_filt['original_title'].str.contains(\"Bourne\")),:]"
      ],
      "execution_count": null,
      "outputs": []
    },
    {
      "cell_type": "code",
      "metadata": {
        "colab": {
          "base_uri": "https://localhost:8080/"
        },
        "id": "dBHI8diBzzc_",
        "outputId": "e0c2a692-188f-47ac-d080-e576199f5bcb"
      },
      "source": [
        "# remove 'title' column, it seems useless (either italian or a repetition )\n",
        "\n",
        "imdb_movies_eng_fr_filt.drop('title', axis=1, inplace=True)"
      ],
      "execution_count": 52,
      "outputs": [
        {
          "output_type": "stream",
          "text": [
            "/usr/local/lib/python3.7/dist-packages/pandas/core/frame.py:4174: SettingWithCopyWarning: \n",
            "A value is trying to be set on a copy of a slice from a DataFrame\n",
            "\n",
            "See the caveats in the documentation: https://pandas.pydata.org/pandas-docs/stable/user_guide/indexing.html#returning-a-view-versus-a-copy\n",
            "  errors=errors,\n"
          ],
          "name": "stderr"
        }
      ]
    },
    {
      "cell_type": "code",
      "metadata": {
        "colab": {
          "base_uri": "https://localhost:8080/",
          "height": 326
        },
        "id": "WVN0gtJzzzoK",
        "outputId": "7b8cf7f2-532b-4555-ee91-e98d03b42a2b"
      },
      "source": [
        "imdb_movies_eng_fr_filt.loc[(imdb_movies_eng_fr_filt['year'].str.contains(\"TV\"))]"
      ],
      "execution_count": 58,
      "outputs": [
        {
          "output_type": "error",
          "ename": "ValueError",
          "evalue": "ignored",
          "traceback": [
            "\u001b[0;31m---------------------------------------------------------------------------\u001b[0m",
            "\u001b[0;31mValueError\u001b[0m                                Traceback (most recent call last)",
            "\u001b[0;32m<ipython-input-58-5bf39760c034>\u001b[0m in \u001b[0;36m<module>\u001b[0;34m()\u001b[0m\n\u001b[0;32m----> 1\u001b[0;31m \u001b[0mimdb_movies_eng_fr_filt\u001b[0m\u001b[0;34m.\u001b[0m\u001b[0mloc\u001b[0m\u001b[0;34m[\u001b[0m\u001b[0;34m(\u001b[0m\u001b[0mimdb_movies_eng_fr_filt\u001b[0m\u001b[0;34m[\u001b[0m\u001b[0;34m'year'\u001b[0m\u001b[0;34m]\u001b[0m\u001b[0;34m.\u001b[0m\u001b[0mstr\u001b[0m\u001b[0;34m.\u001b[0m\u001b[0mcontains\u001b[0m\u001b[0;34m(\u001b[0m\u001b[0;34m\"TV\"\u001b[0m\u001b[0;34m)\u001b[0m\u001b[0;34m)\u001b[0m\u001b[0;34m]\u001b[0m\u001b[0;34m\u001b[0m\u001b[0;34m\u001b[0m\u001b[0m\n\u001b[0m",
            "\u001b[0;32m/usr/local/lib/python3.7/dist-packages/pandas/core/indexing.py\u001b[0m in \u001b[0;36m__getitem__\u001b[0;34m(self, key)\u001b[0m\n\u001b[1;32m    877\u001b[0m \u001b[0;34m\u001b[0m\u001b[0m\n\u001b[1;32m    878\u001b[0m             \u001b[0mmaybe_callable\u001b[0m \u001b[0;34m=\u001b[0m \u001b[0mcom\u001b[0m\u001b[0;34m.\u001b[0m\u001b[0mapply_if_callable\u001b[0m\u001b[0;34m(\u001b[0m\u001b[0mkey\u001b[0m\u001b[0;34m,\u001b[0m \u001b[0mself\u001b[0m\u001b[0;34m.\u001b[0m\u001b[0mobj\u001b[0m\u001b[0;34m)\u001b[0m\u001b[0;34m\u001b[0m\u001b[0;34m\u001b[0m\u001b[0m\n\u001b[0;32m--> 879\u001b[0;31m             \u001b[0;32mreturn\u001b[0m \u001b[0mself\u001b[0m\u001b[0;34m.\u001b[0m\u001b[0m_getitem_axis\u001b[0m\u001b[0;34m(\u001b[0m\u001b[0mmaybe_callable\u001b[0m\u001b[0;34m,\u001b[0m \u001b[0maxis\u001b[0m\u001b[0;34m=\u001b[0m\u001b[0maxis\u001b[0m\u001b[0;34m)\u001b[0m\u001b[0;34m\u001b[0m\u001b[0;34m\u001b[0m\u001b[0m\n\u001b[0m\u001b[1;32m    880\u001b[0m \u001b[0;34m\u001b[0m\u001b[0m\n\u001b[1;32m    881\u001b[0m     \u001b[0;32mdef\u001b[0m \u001b[0m_is_scalar_access\u001b[0m\u001b[0;34m(\u001b[0m\u001b[0mself\u001b[0m\u001b[0;34m,\u001b[0m \u001b[0mkey\u001b[0m\u001b[0;34m:\u001b[0m \u001b[0mTuple\u001b[0m\u001b[0;34m)\u001b[0m\u001b[0;34m:\u001b[0m\u001b[0;34m\u001b[0m\u001b[0;34m\u001b[0m\u001b[0m\n",
            "\u001b[0;32m/usr/local/lib/python3.7/dist-packages/pandas/core/indexing.py\u001b[0m in \u001b[0;36m_getitem_axis\u001b[0;34m(self, key, axis)\u001b[0m\n\u001b[1;32m   1087\u001b[0m             \u001b[0mself\u001b[0m\u001b[0;34m.\u001b[0m\u001b[0m_validate_key\u001b[0m\u001b[0;34m(\u001b[0m\u001b[0mkey\u001b[0m\u001b[0;34m,\u001b[0m \u001b[0maxis\u001b[0m\u001b[0;34m)\u001b[0m\u001b[0;34m\u001b[0m\u001b[0;34m\u001b[0m\u001b[0m\n\u001b[1;32m   1088\u001b[0m             \u001b[0;32mreturn\u001b[0m \u001b[0mself\u001b[0m\u001b[0;34m.\u001b[0m\u001b[0m_get_slice_axis\u001b[0m\u001b[0;34m(\u001b[0m\u001b[0mkey\u001b[0m\u001b[0;34m,\u001b[0m \u001b[0maxis\u001b[0m\u001b[0;34m=\u001b[0m\u001b[0maxis\u001b[0m\u001b[0;34m)\u001b[0m\u001b[0;34m\u001b[0m\u001b[0;34m\u001b[0m\u001b[0m\n\u001b[0;32m-> 1089\u001b[0;31m         \u001b[0;32melif\u001b[0m \u001b[0mcom\u001b[0m\u001b[0;34m.\u001b[0m\u001b[0mis_bool_indexer\u001b[0m\u001b[0;34m(\u001b[0m\u001b[0mkey\u001b[0m\u001b[0;34m)\u001b[0m\u001b[0;34m:\u001b[0m\u001b[0;34m\u001b[0m\u001b[0;34m\u001b[0m\u001b[0m\n\u001b[0m\u001b[1;32m   1090\u001b[0m             \u001b[0;32mreturn\u001b[0m \u001b[0mself\u001b[0m\u001b[0;34m.\u001b[0m\u001b[0m_getbool_axis\u001b[0m\u001b[0;34m(\u001b[0m\u001b[0mkey\u001b[0m\u001b[0;34m,\u001b[0m \u001b[0maxis\u001b[0m\u001b[0;34m=\u001b[0m\u001b[0maxis\u001b[0m\u001b[0;34m)\u001b[0m\u001b[0;34m\u001b[0m\u001b[0;34m\u001b[0m\u001b[0m\n\u001b[1;32m   1091\u001b[0m         \u001b[0;32melif\u001b[0m \u001b[0mis_list_like_indexer\u001b[0m\u001b[0;34m(\u001b[0m\u001b[0mkey\u001b[0m\u001b[0;34m)\u001b[0m\u001b[0;34m:\u001b[0m\u001b[0;34m\u001b[0m\u001b[0;34m\u001b[0m\u001b[0m\n",
            "\u001b[0;32m/usr/local/lib/python3.7/dist-packages/pandas/core/common.py\u001b[0m in \u001b[0;36mis_bool_indexer\u001b[0;34m(key)\u001b[0m\n\u001b[1;32m    132\u001b[0m                 \u001b[0mna_msg\u001b[0m \u001b[0;34m=\u001b[0m \u001b[0;34m\"Cannot mask with non-boolean array containing NA / NaN values\"\u001b[0m\u001b[0;34m\u001b[0m\u001b[0;34m\u001b[0m\u001b[0m\n\u001b[1;32m    133\u001b[0m                 \u001b[0;32mif\u001b[0m \u001b[0misna\u001b[0m\u001b[0;34m(\u001b[0m\u001b[0mkey\u001b[0m\u001b[0;34m)\u001b[0m\u001b[0;34m.\u001b[0m\u001b[0many\u001b[0m\u001b[0;34m(\u001b[0m\u001b[0;34m)\u001b[0m\u001b[0;34m:\u001b[0m\u001b[0;34m\u001b[0m\u001b[0;34m\u001b[0m\u001b[0m\n\u001b[0;32m--> 134\u001b[0;31m                     \u001b[0;32mraise\u001b[0m \u001b[0mValueError\u001b[0m\u001b[0;34m(\u001b[0m\u001b[0mna_msg\u001b[0m\u001b[0;34m)\u001b[0m\u001b[0;34m\u001b[0m\u001b[0;34m\u001b[0m\u001b[0m\n\u001b[0m\u001b[1;32m    135\u001b[0m                 \u001b[0;32mreturn\u001b[0m \u001b[0;32mFalse\u001b[0m\u001b[0;34m\u001b[0m\u001b[0;34m\u001b[0m\u001b[0m\n\u001b[1;32m    136\u001b[0m             \u001b[0;32mreturn\u001b[0m \u001b[0;32mTrue\u001b[0m\u001b[0;34m\u001b[0m\u001b[0;34m\u001b[0m\u001b[0m\n",
            "\u001b[0;31mValueError\u001b[0m: Cannot mask with non-boolean array containing NA / NaN values"
          ]
        }
      ]
    },
    {
      "cell_type": "code",
      "metadata": {
        "colab": {
          "base_uri": "https://localhost:8080/"
        },
        "id": "qfUHnl5e1UJ_",
        "outputId": "8a1a466b-f04c-41f2-d57b-366aaca28859"
      },
      "source": [
        "imdb_movies_eng_fr_filt.isna().sum()"
      ],
      "execution_count": 56,
      "outputs": [
        {
          "output_type": "execute_result",
          "data": {
            "text/plain": [
              "imdb_title_id               0\n",
              "original_title              0\n",
              "year                        0\n",
              "genre                       0\n",
              "duration                    0\n",
              "country                     0\n",
              "language                    0\n",
              "director                    0\n",
              "writer                     26\n",
              "production_company         28\n",
              "actors                      1\n",
              "description                37\n",
              "avg_vote                    0\n",
              "votes                       0\n",
              "worlwide_gross_income    2944\n",
              "dtype: int64"
            ]
          },
          "metadata": {
            "tags": []
          },
          "execution_count": 56
        }
      ]
    },
    {
      "cell_type": "code",
      "metadata": {
        "colab": {
          "base_uri": "https://localhost:8080/"
        },
        "id": "KJTZtBVN1UR3",
        "outputId": "cb53a98b-b31d-41e6-b5a8-f66819afe71f"
      },
      "source": [
        "imdb_movies_eng_fr_filt['year'].value_counts()"
      ],
      "execution_count": 59,
      "outputs": [
        {
          "output_type": "execute_result",
          "data": {
            "text/plain": [
              "2011    444\n",
              "2009    442\n",
              "2008    434\n",
              "2006    409\n",
              "2007    408\n",
              "       ... \n",
              "1914      1\n",
              "1915      1\n",
              "1922      1\n",
              "1918      1\n",
              "2011      1\n",
              "Name: year, Length: 117, dtype: int64"
            ]
          },
          "metadata": {
            "tags": []
          },
          "execution_count": 59
        }
      ]
    },
    {
      "cell_type": "code",
      "metadata": {
        "colab": {
          "base_uri": "https://localhost:8080/"
        },
        "id": "LFwyKCKR1k92",
        "outputId": "5c8b8430-f5b5-4cc8-b021-bcaf4ef5af4a"
      },
      "source": [
        "imdb_movies_eng_fr_filt.isnull().sum()"
      ],
      "execution_count": 57,
      "outputs": [
        {
          "output_type": "execute_result",
          "data": {
            "text/plain": [
              "imdb_title_id               0\n",
              "original_title              0\n",
              "year                        0\n",
              "genre                       0\n",
              "duration                    0\n",
              "country                     0\n",
              "language                    0\n",
              "director                    0\n",
              "writer                     26\n",
              "production_company         28\n",
              "actors                      1\n",
              "description                37\n",
              "avg_vote                    0\n",
              "votes                       0\n",
              "worlwide_gross_income    2944\n",
              "dtype: int64"
            ]
          },
          "metadata": {
            "tags": []
          },
          "execution_count": 57
        }
      ]
    },
    {
      "cell_type": "code",
      "metadata": {
        "colab": {
          "base_uri": "https://localhost:8080/",
          "height": 69
        },
        "id": "eNb44oAv1Ub5",
        "outputId": "78924080-904f-41dc-c72b-d65acb47274d"
      },
      "source": [
        "imdb_movies_eng_fr_filt.loc[(imdb_movies_eng_fr_filt['year']==\"\\\\N\")]"
      ],
      "execution_count": 60,
      "outputs": [
        {
          "output_type": "execute_result",
          "data": {
            "text/html": [
              "<div>\n",
              "<style scoped>\n",
              "    .dataframe tbody tr th:only-of-type {\n",
              "        vertical-align: middle;\n",
              "    }\n",
              "\n",
              "    .dataframe tbody tr th {\n",
              "        vertical-align: top;\n",
              "    }\n",
              "\n",
              "    .dataframe thead th {\n",
              "        text-align: right;\n",
              "    }\n",
              "</style>\n",
              "<table border=\"1\" class=\"dataframe\">\n",
              "  <thead>\n",
              "    <tr style=\"text-align: right;\">\n",
              "      <th></th>\n",
              "      <th>imdb_title_id</th>\n",
              "      <th>original_title</th>\n",
              "      <th>year</th>\n",
              "      <th>genre</th>\n",
              "      <th>duration</th>\n",
              "      <th>country</th>\n",
              "      <th>language</th>\n",
              "      <th>director</th>\n",
              "      <th>writer</th>\n",
              "      <th>production_company</th>\n",
              "      <th>actors</th>\n",
              "      <th>description</th>\n",
              "      <th>avg_vote</th>\n",
              "      <th>votes</th>\n",
              "      <th>worlwide_gross_income</th>\n",
              "    </tr>\n",
              "  </thead>\n",
              "  <tbody>\n",
              "  </tbody>\n",
              "</table>\n",
              "</div>"
            ],
            "text/plain": [
              "Empty DataFrame\n",
              "Columns: [imdb_title_id, original_title, year, genre, duration, country, language, director, writer, production_company, actors, description, avg_vote, votes, worlwide_gross_income]\n",
              "Index: []"
            ]
          },
          "metadata": {
            "tags": []
          },
          "execution_count": 60
        }
      ]
    },
    {
      "cell_type": "code",
      "metadata": {
        "colab": {
          "base_uri": "https://localhost:8080/"
        },
        "id": "Vu7iWB6C1Ujr",
        "outputId": "2ba535eb-b777-4c91-89ea-11c64f6a95b3"
      },
      "source": [
        "imdb_movies_eng_fr_filt['year'].unique()"
      ],
      "execution_count": 62,
      "outputs": [
        {
          "output_type": "execute_result",
          "data": {
            "text/plain": [
              "array([1913, 1914, 1915, 1916, 1918, 1919, 1921, 1922, 1923, 1925, 1924,\n",
              "       1926, 1983, 1927, 1928, 1929, 1930, 1931, 1937, 1932, 1933, 1934,\n",
              "       1935, 1936, 1940, 1938, 1939, 1941, 1942, 1943, 2001, 1944, 1946,\n",
              "       1945, 1947, 1948, 1949, 1950, 1951, 1952, 1953, 1954, 1955, 1956,\n",
              "       1957, 1958, 1959, 1962, 1960, 1961, 1963, 1964, 1965, 1967, 1966,\n",
              "       1968, 1969, 1970, 1971, 1972, 1973, 2018, 1974, 1975, 1976, 1977,\n",
              "       1978, 1979, 1980, 1981, 1982, 1984, 1985, 1986, 1988, 1987, 1989,\n",
              "       1990, 1991, 1992, 1993, 1994, 1995, 1997, 1996, 1999, 1998, 2000,\n",
              "       2002, 2005, 2003, 2004, 2008, 2006, 2007, 2011, 2009, 2012, 2013,\n",
              "       2014, 2015, 2016, 2019, 2010, 2017, 2020, '2013', '2017', '2015',\n",
              "       '2018', '2012', '2014', '2016', '2019', '2011', '2020',\n",
              "       'TV Movie 2019'], dtype=object)"
            ]
          },
          "metadata": {
            "tags": []
          },
          "execution_count": 62
        }
      ]
    },
    {
      "cell_type": "code",
      "metadata": {
        "colab": {
          "base_uri": "https://localhost:8080/"
        },
        "id": "GngEWjpS25gQ",
        "outputId": "9cc1544a-0417-4778-e10e-6150574dd13f"
      },
      "source": [
        "imdb_movies_eng_fr_filt['year'].astype(int)"
      ],
      "execution_count": 73,
      "outputs": [
        {
          "output_type": "execute_result",
          "data": {
            "text/plain": [
              "11       1913\n",
              "13       1913\n",
              "16       1913\n",
              "27       1914\n",
              "61       1915\n",
              "         ... \n",
              "85747    2020\n",
              "85761    2019\n",
              "85811    2019\n",
              "85817    2018\n",
              "85839    2020\n",
              "Name: year, Length: 13563, dtype: int64"
            ]
          },
          "metadata": {
            "tags": []
          },
          "execution_count": 73
        }
      ]
    },
    {
      "cell_type": "code",
      "metadata": {
        "colab": {
          "base_uri": "https://localhost:8080/",
          "height": 69
        },
        "id": "VuleLmsr25m_",
        "outputId": "83f0de10-920e-49b3-d913-08157ec85f2b"
      },
      "source": [
        "# Bad Education is a \"TV movie\" (year)!! \n",
        "\n",
        "imdb_movies_eng_fr_filt.loc[(imdb_movies_eng_fr_filt['original_title']==\"Bad Education\")]"
      ],
      "execution_count": 72,
      "outputs": [
        {
          "output_type": "execute_result",
          "data": {
            "text/html": [
              "<div>\n",
              "<style scoped>\n",
              "    .dataframe tbody tr th:only-of-type {\n",
              "        vertical-align: middle;\n",
              "    }\n",
              "\n",
              "    .dataframe tbody tr th {\n",
              "        vertical-align: top;\n",
              "    }\n",
              "\n",
              "    .dataframe thead th {\n",
              "        text-align: right;\n",
              "    }\n",
              "</style>\n",
              "<table border=\"1\" class=\"dataframe\">\n",
              "  <thead>\n",
              "    <tr style=\"text-align: right;\">\n",
              "      <th></th>\n",
              "      <th>imdb_title_id</th>\n",
              "      <th>original_title</th>\n",
              "      <th>year</th>\n",
              "      <th>genre</th>\n",
              "      <th>duration</th>\n",
              "      <th>country</th>\n",
              "      <th>language</th>\n",
              "      <th>director</th>\n",
              "      <th>writer</th>\n",
              "      <th>production_company</th>\n",
              "      <th>actors</th>\n",
              "      <th>description</th>\n",
              "      <th>avg_vote</th>\n",
              "      <th>votes</th>\n",
              "      <th>worlwide_gross_income</th>\n",
              "    </tr>\n",
              "  </thead>\n",
              "  <tbody>\n",
              "  </tbody>\n",
              "</table>\n",
              "</div>"
            ],
            "text/plain": [
              "Empty DataFrame\n",
              "Columns: [imdb_title_id, original_title, year, genre, duration, country, language, director, writer, production_company, actors, description, avg_vote, votes, worlwide_gross_income]\n",
              "Index: []"
            ]
          },
          "metadata": {
            "tags": []
          },
          "execution_count": 72
        }
      ]
    },
    {
      "cell_type": "code",
      "metadata": {
        "colab": {
          "base_uri": "https://localhost:8080/"
        },
        "id": "O10KASF925tH",
        "outputId": "b151d26c-a30d-4c3f-cf1d-83de9941a140"
      },
      "source": [
        "# Drop this film by the index\n",
        "\n",
        "imdb_movies_eng_fr_filt.drop([83917], inplace=True)"
      ],
      "execution_count": 71,
      "outputs": [
        {
          "output_type": "stream",
          "text": [
            "/usr/local/lib/python3.7/dist-packages/pandas/core/frame.py:4174: SettingWithCopyWarning: \n",
            "A value is trying to be set on a copy of a slice from a DataFrame\n",
            "\n",
            "See the caveats in the documentation: https://pandas.pydata.org/pandas-docs/stable/user_guide/indexing.html#returning-a-view-versus-a-copy\n",
            "  errors=errors,\n"
          ],
          "name": "stderr"
        }
      ]
    },
    {
      "cell_type": "code",
      "metadata": {
        "colab": {
          "base_uri": "https://localhost:8080/"
        },
        "id": "KXA2gmHp5Q5d",
        "outputId": "9cc1544a-0417-4778-e10e-6150574dd13f"
      },
      "source": [
        "# Now it works\n",
        "imdb_movies_eng_fr_filt['year'].astype(int)"
      ],
      "execution_count": null,
      "outputs": [
        {
          "output_type": "execute_result",
          "data": {
            "text/plain": [
              "11       1913\n",
              "13       1913\n",
              "16       1913\n",
              "27       1914\n",
              "61       1915\n",
              "         ... \n",
              "85747    2020\n",
              "85761    2019\n",
              "85811    2019\n",
              "85817    2018\n",
              "85839    2020\n",
              "Name: year, Length: 13563, dtype: int64"
            ]
          },
          "metadata": {
            "tags": []
          },
          "execution_count": 73
        }
      ]
    },
    {
      "cell_type": "code",
      "metadata": {
        "colab": {
          "base_uri": "https://localhost:8080/"
        },
        "id": "zRBfYjf55Qaz",
        "outputId": "699c694f-bfc6-436c-9540-010d464cbe28"
      },
      "source": [
        "imdb_movies_eng_fr_filt['year'].unique()\n"
      ],
      "execution_count": 76,
      "outputs": [
        {
          "output_type": "execute_result",
          "data": {
            "text/plain": [
              "array([1913, 1914, 1915, 1916, 1918, 1919, 1921, 1922, 1923, 1925, 1924,\n",
              "       1926, 1983, 1927, 1928, 1929, 1930, 1931, 1937, 1932, 1933, 1934,\n",
              "       1935, 1936, 1940, 1938, 1939, 1941, 1942, 1943, 2001, 1944, 1946,\n",
              "       1945, 1947, 1948, 1949, 1950, 1951, 1952, 1953, 1954, 1955, 1956,\n",
              "       1957, 1958, 1959, 1962, 1960, 1961, 1963, 1964, 1965, 1967, 1966,\n",
              "       1968, 1969, 1970, 1971, 1972, 1973, 2018, 1974, 1975, 1976, 1977,\n",
              "       1978, 1979, 1980, 1981, 1982, 1984, 1985, 1986, 1988, 1987, 1989,\n",
              "       1990, 1991, 1992, 1993, 1994, 1995, 1997, 1996, 1999, 1998, 2000,\n",
              "       2002, 2005, 2003, 2004, 2008, 2006, 2007, 2011, 2009, 2012, 2013,\n",
              "       2014, 2015, 2016, 2019, 2010, 2017, 2020])"
            ]
          },
          "metadata": {
            "tags": []
          },
          "execution_count": 76
        }
      ]
    },
    {
      "cell_type": "code",
      "metadata": {
        "colab": {
          "base_uri": "https://localhost:8080/"
        },
        "id": "03Gkhhn35Qed",
        "outputId": "a37bbb3c-9f7c-42b2-df2d-8a7898b49553"
      },
      "source": [
        "imdb_movies_eng_fr_filt['year'] = imdb_movies_eng_fr_filt['year'].astype(int)"
      ],
      "execution_count": 75,
      "outputs": [
        {
          "output_type": "stream",
          "text": [
            "/usr/local/lib/python3.7/dist-packages/ipykernel_launcher.py:1: SettingWithCopyWarning: \n",
            "A value is trying to be set on a copy of a slice from a DataFrame.\n",
            "Try using .loc[row_indexer,col_indexer] = value instead\n",
            "\n",
            "See the caveats in the documentation: https://pandas.pydata.org/pandas-docs/stable/user_guide/indexing.html#returning-a-view-versus-a-copy\n",
            "  \"\"\"Entry point for launching an IPython kernel.\n"
          ],
          "name": "stderr"
        }
      ]
    },
    {
      "cell_type": "code",
      "metadata": {
        "colab": {
          "base_uri": "https://localhost:8080/"
        },
        "id": "AZV8Zq9Y5Qhk",
        "outputId": "2ed536f8-f259-4b9c-ed6e-6c7abcb9a315"
      },
      "source": [
        "imdb_movies_eng_fr_filt['year'].value_counts()"
      ],
      "execution_count": 77,
      "outputs": [
        {
          "output_type": "execute_result",
          "data": {
            "text/plain": [
              "2014    504\n",
              "2013    479\n",
              "2016    467\n",
              "2017    463\n",
              "2015    453\n",
              "       ... \n",
              "1918      1\n",
              "1919      1\n",
              "1914      1\n",
              "1922      1\n",
              "1915      1\n",
              "Name: year, Length: 106, dtype: int64"
            ]
          },
          "metadata": {
            "tags": []
          },
          "execution_count": 77
        }
      ]
    },
    {
      "cell_type": "code",
      "metadata": {
        "id": "DtQaqneg52FC"
      },
      "source": [
        ""
      ],
      "execution_count": null,
      "outputs": []
    },
    {
      "cell_type": "code",
      "metadata": {
        "id": "f3Nh_hqs52Ki"
      },
      "source": [
        ""
      ],
      "execution_count": null,
      "outputs": []
    },
    {
      "cell_type": "code",
      "metadata": {
        "colab": {
          "base_uri": "https://localhost:8080/"
        },
        "id": "gQGhp2WVHE-k",
        "outputId": "3a93972d-25c2-467f-97c1-d3b2bb9e3a1a"
      },
      "source": [
        "title_akas = pd.read_csv('https://datasets.imdbws.com/title.akas.tsv.gz',sep='\\t', header=0)"
      ],
      "execution_count": 78,
      "outputs": [
        {
          "output_type": "stream",
          "text": [
            "/usr/local/lib/python3.7/dist-packages/IPython/core/interactiveshell.py:2718: DtypeWarning: Columns (7) have mixed types.Specify dtype option on import or set low_memory=False.\n",
            "  interactivity=interactivity, compiler=compiler, result=result)\n"
          ],
          "name": "stderr"
        }
      ]
    },
    {
      "cell_type": "code",
      "metadata": {
        "colab": {
          "base_uri": "https://localhost:8080/",
          "height": 206
        },
        "id": "IpwHVAV29_K0",
        "outputId": "a373ba93-cdf0-4d3d-9b49-2c896eb4fad8"
      },
      "source": [
        "title_akas.head()"
      ],
      "execution_count": 80,
      "outputs": [
        {
          "output_type": "execute_result",
          "data": {
            "text/html": [
              "<div>\n",
              "<style scoped>\n",
              "    .dataframe tbody tr th:only-of-type {\n",
              "        vertical-align: middle;\n",
              "    }\n",
              "\n",
              "    .dataframe tbody tr th {\n",
              "        vertical-align: top;\n",
              "    }\n",
              "\n",
              "    .dataframe thead th {\n",
              "        text-align: right;\n",
              "    }\n",
              "</style>\n",
              "<table border=\"1\" class=\"dataframe\">\n",
              "  <thead>\n",
              "    <tr style=\"text-align: right;\">\n",
              "      <th></th>\n",
              "      <th>titleId</th>\n",
              "      <th>ordering</th>\n",
              "      <th>title</th>\n",
              "      <th>region</th>\n",
              "      <th>language</th>\n",
              "      <th>types</th>\n",
              "      <th>attributes</th>\n",
              "      <th>isOriginalTitle</th>\n",
              "    </tr>\n",
              "  </thead>\n",
              "  <tbody>\n",
              "    <tr>\n",
              "      <th>0</th>\n",
              "      <td>tt0000001</td>\n",
              "      <td>1</td>\n",
              "      <td>Карменсіта</td>\n",
              "      <td>UA</td>\n",
              "      <td>\\N</td>\n",
              "      <td>imdbDisplay</td>\n",
              "      <td>\\N</td>\n",
              "      <td>0</td>\n",
              "    </tr>\n",
              "    <tr>\n",
              "      <th>1</th>\n",
              "      <td>tt0000001</td>\n",
              "      <td>2</td>\n",
              "      <td>Carmencita</td>\n",
              "      <td>DE</td>\n",
              "      <td>\\N</td>\n",
              "      <td>\\N</td>\n",
              "      <td>literal title</td>\n",
              "      <td>0</td>\n",
              "    </tr>\n",
              "    <tr>\n",
              "      <th>2</th>\n",
              "      <td>tt0000001</td>\n",
              "      <td>3</td>\n",
              "      <td>Carmencita - spanyol tánc</td>\n",
              "      <td>HU</td>\n",
              "      <td>\\N</td>\n",
              "      <td>imdbDisplay</td>\n",
              "      <td>\\N</td>\n",
              "      <td>0</td>\n",
              "    </tr>\n",
              "    <tr>\n",
              "      <th>3</th>\n",
              "      <td>tt0000001</td>\n",
              "      <td>4</td>\n",
              "      <td>Καρμενσίτα</td>\n",
              "      <td>GR</td>\n",
              "      <td>\\N</td>\n",
              "      <td>imdbDisplay</td>\n",
              "      <td>\\N</td>\n",
              "      <td>0</td>\n",
              "    </tr>\n",
              "    <tr>\n",
              "      <th>4</th>\n",
              "      <td>tt0000001</td>\n",
              "      <td>5</td>\n",
              "      <td>Карменсита</td>\n",
              "      <td>RU</td>\n",
              "      <td>\\N</td>\n",
              "      <td>imdbDisplay</td>\n",
              "      <td>\\N</td>\n",
              "      <td>0</td>\n",
              "    </tr>\n",
              "  </tbody>\n",
              "</table>\n",
              "</div>"
            ],
            "text/plain": [
              "     titleId  ordering  ...     attributes isOriginalTitle\n",
              "0  tt0000001         1  ...             \\N               0\n",
              "1  tt0000001         2  ...  literal title               0\n",
              "2  tt0000001         3  ...             \\N               0\n",
              "3  tt0000001         4  ...             \\N               0\n",
              "4  tt0000001         5  ...             \\N               0\n",
              "\n",
              "[5 rows x 8 columns]"
            ]
          },
          "metadata": {
            "tags": []
          },
          "execution_count": 80
        }
      ]
    },
    {
      "cell_type": "code",
      "metadata": {
        "colab": {
          "base_uri": "https://localhost:8080/"
        },
        "id": "n4hB6MJtH_hZ",
        "outputId": "443ca0a4-3bad-4fa2-9717-9c65e4c6276e"
      },
      "source": [
        "title_akas.language.value_counts()['fr']"
      ],
      "execution_count": 81,
      "outputs": [
        {
          "output_type": "execute_result",
          "data": {
            "text/plain": [
              "3066202"
            ]
          },
          "metadata": {
            "tags": []
          },
          "execution_count": 81
        }
      ]
    },
    {
      "cell_type": "code",
      "metadata": {
        "colab": {
          "base_uri": "https://localhost:8080/",
          "height": 80
        },
        "id": "zwGKWxCqH_vq",
        "outputId": "5ac9db29-9613-4572-fb26-2466b7c1833d"
      },
      "source": [
        "title_akas.loc[(title_akas['titleId'] == 'tt0111161') & (title_akas['region'] == 'FR')]"
      ],
      "execution_count": 82,
      "outputs": [
        {
          "output_type": "execute_result",
          "data": {
            "text/html": [
              "<div>\n",
              "<style scoped>\n",
              "    .dataframe tbody tr th:only-of-type {\n",
              "        vertical-align: middle;\n",
              "    }\n",
              "\n",
              "    .dataframe tbody tr th {\n",
              "        vertical-align: top;\n",
              "    }\n",
              "\n",
              "    .dataframe thead th {\n",
              "        text-align: right;\n",
              "    }\n",
              "</style>\n",
              "<table border=\"1\" class=\"dataframe\">\n",
              "  <thead>\n",
              "    <tr style=\"text-align: right;\">\n",
              "      <th></th>\n",
              "      <th>titleId</th>\n",
              "      <th>ordering</th>\n",
              "      <th>title</th>\n",
              "      <th>region</th>\n",
              "      <th>language</th>\n",
              "      <th>types</th>\n",
              "      <th>attributes</th>\n",
              "      <th>isOriginalTitle</th>\n",
              "    </tr>\n",
              "  </thead>\n",
              "  <tbody>\n",
              "    <tr>\n",
              "      <th>817146</th>\n",
              "      <td>tt0111161</td>\n",
              "      <td>12</td>\n",
              "      <td>Les Évadés</td>\n",
              "      <td>FR</td>\n",
              "      <td>\\N</td>\n",
              "      <td>imdbDisplay</td>\n",
              "      <td>\\N</td>\n",
              "      <td>0</td>\n",
              "    </tr>\n",
              "  </tbody>\n",
              "</table>\n",
              "</div>"
            ],
            "text/plain": [
              "          titleId  ordering       title  ...        types attributes isOriginalTitle\n",
              "817146  tt0111161        12  Les Évadés  ...  imdbDisplay         \\N               0\n",
              "\n",
              "[1 rows x 8 columns]"
            ]
          },
          "metadata": {
            "tags": []
          },
          "execution_count": 82
        }
      ]
    },
    {
      "cell_type": "code",
      "metadata": {
        "id": "0CNWyDHi-QNQ"
      },
      "source": [
        ""
      ],
      "execution_count": null,
      "outputs": []
    },
    {
      "cell_type": "code",
      "metadata": {
        "id": "q4NwbHqqH_2f"
      },
      "source": [
        "titles_fr = title_akas.loc[title_akas['region'] == 'FR']"
      ],
      "execution_count": 83,
      "outputs": []
    },
    {
      "cell_type": "code",
      "metadata": {
        "colab": {
          "base_uri": "https://localhost:8080/"
        },
        "id": "FsgqysLa-hyd",
        "outputId": "9f219358-d2db-4162-ef0a-359412a5d64e"
      },
      "source": [
        "titles_fr.dtypes"
      ],
      "execution_count": 87,
      "outputs": [
        {
          "output_type": "execute_result",
          "data": {
            "text/plain": [
              "titleId            object\n",
              "ordering            int64\n",
              "title              object\n",
              "region             object\n",
              "language           object\n",
              "types              object\n",
              "attributes         object\n",
              "isOriginalTitle    object\n",
              "dtype: object"
            ]
          },
          "metadata": {
            "tags": []
          },
          "execution_count": 87
        }
      ]
    },
    {
      "cell_type": "code",
      "metadata": {
        "id": "tFZ2SgZmIAD3"
      },
      "source": [
        "# drop duplicates to perform merge\n",
        "\n",
        "titles_fr_1 = titles_fr.drop_duplicates(subset=['titleId'])"
      ],
      "execution_count": 85,
      "outputs": []
    },
    {
      "cell_type": "code",
      "metadata": {
        "id": "Ar9gJdGlIAvB",
        "colab": {
          "base_uri": "https://localhost:8080/",
          "height": 676
        },
        "outputId": "0fe74824-6371-4cf1-c396-f1184977604e"
      },
      "source": [
        "titles_fr_1.head(20)"
      ],
      "execution_count": 86,
      "outputs": [
        {
          "output_type": "execute_result",
          "data": {
            "text/html": [
              "<div>\n",
              "<style scoped>\n",
              "    .dataframe tbody tr th:only-of-type {\n",
              "        vertical-align: middle;\n",
              "    }\n",
              "\n",
              "    .dataframe tbody tr th {\n",
              "        vertical-align: top;\n",
              "    }\n",
              "\n",
              "    .dataframe thead th {\n",
              "        text-align: right;\n",
              "    }\n",
              "</style>\n",
              "<table border=\"1\" class=\"dataframe\">\n",
              "  <thead>\n",
              "    <tr style=\"text-align: right;\">\n",
              "      <th></th>\n",
              "      <th>titleId</th>\n",
              "      <th>ordering</th>\n",
              "      <th>title</th>\n",
              "      <th>region</th>\n",
              "      <th>language</th>\n",
              "      <th>types</th>\n",
              "      <th>attributes</th>\n",
              "      <th>isOriginalTitle</th>\n",
              "    </tr>\n",
              "  </thead>\n",
              "  <tbody>\n",
              "    <tr>\n",
              "      <th>10</th>\n",
              "      <td>tt0000002</td>\n",
              "      <td>3</td>\n",
              "      <td>Le clown et ses chiens</td>\n",
              "      <td>FR</td>\n",
              "      <td>\\N</td>\n",
              "      <td>\\N</td>\n",
              "      <td>\\N</td>\n",
              "      <td>0</td>\n",
              "    </tr>\n",
              "    <tr>\n",
              "      <th>23</th>\n",
              "      <td>tt0000003</td>\n",
              "      <td>8</td>\n",
              "      <td>Pauvre Pierrot</td>\n",
              "      <td>FR</td>\n",
              "      <td>\\N</td>\n",
              "      <td>\\N</td>\n",
              "      <td>\\N</td>\n",
              "      <td>0</td>\n",
              "    </tr>\n",
              "    <tr>\n",
              "      <th>28</th>\n",
              "      <td>tt0000004</td>\n",
              "      <td>4</td>\n",
              "      <td>Un bon bock</td>\n",
              "      <td>FR</td>\n",
              "      <td>\\N</td>\n",
              "      <td>\\N</td>\n",
              "      <td>\\N</td>\n",
              "      <td>0</td>\n",
              "    </tr>\n",
              "    <tr>\n",
              "      <th>73</th>\n",
              "      <td>tt0000010</td>\n",
              "      <td>10</td>\n",
              "      <td>La sortie des usines Lumière</td>\n",
              "      <td>FR</td>\n",
              "      <td>\\N</td>\n",
              "      <td>alternative</td>\n",
              "      <td>\\N</td>\n",
              "      <td>0</td>\n",
              "    </tr>\n",
              "    <tr>\n",
              "      <th>109</th>\n",
              "      <td>tt0000012</td>\n",
              "      <td>19</td>\n",
              "      <td>L'arrivée d'un train à La Ciotat</td>\n",
              "      <td>FR</td>\n",
              "      <td>\\N</td>\n",
              "      <td>\\N</td>\n",
              "      <td>\\N</td>\n",
              "      <td>0</td>\n",
              "    </tr>\n",
              "    <tr>\n",
              "      <th>127</th>\n",
              "      <td>tt0000013</td>\n",
              "      <td>10</td>\n",
              "      <td>Arrivée des congressistes à Neuville-sur-Saône</td>\n",
              "      <td>FR</td>\n",
              "      <td>\\N</td>\n",
              "      <td>alternative</td>\n",
              "      <td>\\N</td>\n",
              "      <td>0</td>\n",
              "    </tr>\n",
              "    <tr>\n",
              "      <th>143</th>\n",
              "      <td>tt0000014</td>\n",
              "      <td>13</td>\n",
              "      <td>L'arroseur arrosé</td>\n",
              "      <td>FR</td>\n",
              "      <td>\\N</td>\n",
              "      <td>\\N</td>\n",
              "      <td>\\N</td>\n",
              "      <td>0</td>\n",
              "    </tr>\n",
              "    <tr>\n",
              "      <th>167</th>\n",
              "      <td>tt0000015</td>\n",
              "      <td>4</td>\n",
              "      <td>Autour d'une cabine</td>\n",
              "      <td>FR</td>\n",
              "      <td>\\N</td>\n",
              "      <td>\\N</td>\n",
              "      <td>\\N</td>\n",
              "      <td>0</td>\n",
              "    </tr>\n",
              "    <tr>\n",
              "      <th>176</th>\n",
              "      <td>tt0000016</td>\n",
              "      <td>6</td>\n",
              "      <td>Barque sortant du port</td>\n",
              "      <td>FR</td>\n",
              "      <td>\\N</td>\n",
              "      <td>\\N</td>\n",
              "      <td>\\N</td>\n",
              "      <td>0</td>\n",
              "    </tr>\n",
              "    <tr>\n",
              "      <th>197</th>\n",
              "      <td>tt0000022</td>\n",
              "      <td>5</td>\n",
              "      <td>Les forgerons</td>\n",
              "      <td>FR</td>\n",
              "      <td>\\N</td>\n",
              "      <td>\\N</td>\n",
              "      <td>\\N</td>\n",
              "      <td>0</td>\n",
              "    </tr>\n",
              "    <tr>\n",
              "      <th>211</th>\n",
              "      <td>tt0000023</td>\n",
              "      <td>7</td>\n",
              "      <td>Baignade en mer</td>\n",
              "      <td>FR</td>\n",
              "      <td>\\N</td>\n",
              "      <td>\\N</td>\n",
              "      <td>\\N</td>\n",
              "      <td>0</td>\n",
              "    </tr>\n",
              "    <tr>\n",
              "      <th>233</th>\n",
              "      <td>tt0000026</td>\n",
              "      <td>9</td>\n",
              "      <td>Partie d'écarté</td>\n",
              "      <td>FR</td>\n",
              "      <td>\\N</td>\n",
              "      <td>\\N</td>\n",
              "      <td>alternative spelling</td>\n",
              "      <td>0</td>\n",
              "    </tr>\n",
              "    <tr>\n",
              "      <th>237</th>\n",
              "      <td>tt0000027</td>\n",
              "      <td>4</td>\n",
              "      <td>Place des Cordeliers à Lyon</td>\n",
              "      <td>FR</td>\n",
              "      <td>\\N</td>\n",
              "      <td>\\N</td>\n",
              "      <td>\\N</td>\n",
              "      <td>0</td>\n",
              "    </tr>\n",
              "    <tr>\n",
              "      <th>242</th>\n",
              "      <td>tt0000028</td>\n",
              "      <td>3</td>\n",
              "      <td>La pêche aux poissons rouges</td>\n",
              "      <td>FR</td>\n",
              "      <td>\\N</td>\n",
              "      <td>\\N</td>\n",
              "      <td>\\N</td>\n",
              "      <td>0</td>\n",
              "    </tr>\n",
              "    <tr>\n",
              "      <th>248</th>\n",
              "      <td>tt0000029</td>\n",
              "      <td>11</td>\n",
              "      <td>Le goûter de bébé</td>\n",
              "      <td>FR</td>\n",
              "      <td>\\N</td>\n",
              "      <td>\\N</td>\n",
              "      <td>\\N</td>\n",
              "      <td>0</td>\n",
              "    </tr>\n",
              "    <tr>\n",
              "      <th>273</th>\n",
              "      <td>tt0000031</td>\n",
              "      <td>1</td>\n",
              "      <td>Saut à la couverte</td>\n",
              "      <td>FR</td>\n",
              "      <td>\\N</td>\n",
              "      <td>\\N</td>\n",
              "      <td>reissue title</td>\n",
              "      <td>0</td>\n",
              "    </tr>\n",
              "    <tr>\n",
              "      <th>292</th>\n",
              "      <td>tt0000033</td>\n",
              "      <td>6</td>\n",
              "      <td>La voltige</td>\n",
              "      <td>FR</td>\n",
              "      <td>\\N</td>\n",
              "      <td>\\N</td>\n",
              "      <td>\\N</td>\n",
              "      <td>0</td>\n",
              "    </tr>\n",
              "    <tr>\n",
              "      <th>295</th>\n",
              "      <td>tt0000034</td>\n",
              "      <td>2</td>\n",
              "      <td>Arrivée d'un train gare de Vincennes</td>\n",
              "      <td>FR</td>\n",
              "      <td>\\N</td>\n",
              "      <td>\\N</td>\n",
              "      <td>\\N</td>\n",
              "      <td>0</td>\n",
              "    </tr>\n",
              "    <tr>\n",
              "      <th>297</th>\n",
              "      <td>tt0000035</td>\n",
              "      <td>1</td>\n",
              "      <td>L'arroseur</td>\n",
              "      <td>FR</td>\n",
              "      <td>\\N</td>\n",
              "      <td>\\N</td>\n",
              "      <td>\\N</td>\n",
              "      <td>0</td>\n",
              "    </tr>\n",
              "    <tr>\n",
              "      <th>307</th>\n",
              "      <td>tt0000037</td>\n",
              "      <td>4</td>\n",
              "      <td>Baignade en mer</td>\n",
              "      <td>FR</td>\n",
              "      <td>\\N</td>\n",
              "      <td>\\N</td>\n",
              "      <td>\\N</td>\n",
              "      <td>0</td>\n",
              "    </tr>\n",
              "  </tbody>\n",
              "</table>\n",
              "</div>"
            ],
            "text/plain": [
              "       titleId  ordering  ...            attributes isOriginalTitle\n",
              "10   tt0000002         3  ...                    \\N               0\n",
              "23   tt0000003         8  ...                    \\N               0\n",
              "28   tt0000004         4  ...                    \\N               0\n",
              "73   tt0000010        10  ...                    \\N               0\n",
              "109  tt0000012        19  ...                    \\N               0\n",
              "127  tt0000013        10  ...                    \\N               0\n",
              "143  tt0000014        13  ...                    \\N               0\n",
              "167  tt0000015         4  ...                    \\N               0\n",
              "176  tt0000016         6  ...                    \\N               0\n",
              "197  tt0000022         5  ...                    \\N               0\n",
              "211  tt0000023         7  ...                    \\N               0\n",
              "233  tt0000026         9  ...  alternative spelling               0\n",
              "237  tt0000027         4  ...                    \\N               0\n",
              "242  tt0000028         3  ...                    \\N               0\n",
              "248  tt0000029        11  ...                    \\N               0\n",
              "273  tt0000031         1  ...         reissue title               0\n",
              "292  tt0000033         6  ...                    \\N               0\n",
              "295  tt0000034         2  ...                    \\N               0\n",
              "297  tt0000035         1  ...                    \\N               0\n",
              "307  tt0000037         4  ...                    \\N               0\n",
              "\n",
              "[20 rows x 8 columns]"
            ]
          },
          "metadata": {
            "tags": []
          },
          "execution_count": 86
        }
      ]
    },
    {
      "cell_type": "code",
      "metadata": {
        "id": "Zx6ROroVIA4H"
      },
      "source": [
        "imdb_movies_eng_fr_fr_tit = pd.merge(imdb_movies_eng_fr_filt, titles_fr_1, left_on='imdb_title_id', right_on = 'titleId', how = \"left\")"
      ],
      "execution_count": 88,
      "outputs": []
    },
    {
      "cell_type": "code",
      "metadata": {
        "id": "SsIxRADu_i70"
      },
      "source": [
        "imdb_movies_eng_fr_fr_tit\n"
      ],
      "execution_count": null,
      "outputs": []
    },
    {
      "cell_type": "code",
      "metadata": {
        "colab": {
          "base_uri": "https://localhost:8080/",
          "height": 222
        },
        "id": "i9nuFqMucQrp",
        "outputId": "c041514e-eb82-46e5-9c31-670f3e8014a1"
      },
      "source": [
        "imdb_movies_eng_fr_fr_tit.loc[(imdb_movies_eng_fr_fr_tit['original_title']==\"The Shawshank Redemption\"),:]"
      ],
      "execution_count": 100,
      "outputs": [
        {
          "output_type": "execute_result",
          "data": {
            "text/html": [
              "<div>\n",
              "<style scoped>\n",
              "    .dataframe tbody tr th:only-of-type {\n",
              "        vertical-align: middle;\n",
              "    }\n",
              "\n",
              "    .dataframe tbody tr th {\n",
              "        vertical-align: top;\n",
              "    }\n",
              "\n",
              "    .dataframe thead th {\n",
              "        text-align: right;\n",
              "    }\n",
              "</style>\n",
              "<table border=\"1\" class=\"dataframe\">\n",
              "  <thead>\n",
              "    <tr style=\"text-align: right;\">\n",
              "      <th></th>\n",
              "      <th>imdb_title_id</th>\n",
              "      <th>original_title</th>\n",
              "      <th>year</th>\n",
              "      <th>genre</th>\n",
              "      <th>duration</th>\n",
              "      <th>country</th>\n",
              "      <th>language</th>\n",
              "      <th>director</th>\n",
              "      <th>writer</th>\n",
              "      <th>production_company</th>\n",
              "      <th>actors</th>\n",
              "      <th>description</th>\n",
              "      <th>avg_vote</th>\n",
              "      <th>votes</th>\n",
              "      <th>worlwide_gross_income</th>\n",
              "      <th>french title</th>\n",
              "    </tr>\n",
              "  </thead>\n",
              "  <tbody>\n",
              "    <tr>\n",
              "      <th>4311</th>\n",
              "      <td>tt0111161</td>\n",
              "      <td>The Shawshank Redemption</td>\n",
              "      <td>1994</td>\n",
              "      <td>Drama</td>\n",
              "      <td>142</td>\n",
              "      <td>USA</td>\n",
              "      <td>English</td>\n",
              "      <td>Frank Darabont</td>\n",
              "      <td>Stephen King, Frank Darabont</td>\n",
              "      <td>Castle Rock Entertainment</td>\n",
              "      <td>Tim Robbins, Morgan Freeman, Bob Gunton, Willi...</td>\n",
              "      <td>Two imprisoned men bond over a number of years...</td>\n",
              "      <td>9.3</td>\n",
              "      <td>2278845</td>\n",
              "      <td>$ 28815245</td>\n",
              "      <td>Les Évadés</td>\n",
              "    </tr>\n",
              "  </tbody>\n",
              "</table>\n",
              "</div>"
            ],
            "text/plain": [
              "     imdb_title_id            original_title  ...  worlwide_gross_income french title\n",
              "4311     tt0111161  The Shawshank Redemption  ...             $ 28815245   Les Évadés\n",
              "\n",
              "[1 rows x 16 columns]"
            ]
          },
          "metadata": {
            "tags": []
          },
          "execution_count": 100
        }
      ]
    },
    {
      "cell_type": "code",
      "metadata": {
        "id": "Kfu0U4T7cQ0H"
      },
      "source": [
        "# Remove unnecessary columns again\n",
        "\n",
        "imdb_movies_eng_fr_fr_tit.drop(['titleId', 'ordering', 'language_y','types','attributes','isOriginalTitle','region'], axis = 1, inplace = True)\n"
      ],
      "execution_count": 93,
      "outputs": []
    },
    {
      "cell_type": "code",
      "metadata": {
        "id": "qt9ZNLqZcQ4u"
      },
      "source": [
        "# Rename some columns https://stackoverflow.com/questions/19758364/rename-specific-columns-in-pandas\n",
        "\n",
        "imdb_movies_eng_fr_fr_tit.rename(columns={'language_x':'language'}, inplace=True)"
      ],
      "execution_count": 98,
      "outputs": []
    },
    {
      "cell_type": "code",
      "metadata": {
        "id": "WlnTkonacQ8E"
      },
      "source": [
        "imdb_movies_eng_fr_fr_tit.rename(columns={'title':'french title'}, inplace=True)"
      ],
      "execution_count": 99,
      "outputs": []
    },
    {
      "cell_type": "code",
      "metadata": {
        "colab": {
          "base_uri": "https://localhost:8080/"
        },
        "id": "pTliwsZonPeL",
        "outputId": "6d32bc11-a3c2-4249-9f28-fc4dd73a990a"
      },
      "source": [
        "imdb_movies_eng_fr_fr_tit.info()"
      ],
      "execution_count": 101,
      "outputs": [
        {
          "output_type": "stream",
          "text": [
            "<class 'pandas.core.frame.DataFrame'>\n",
            "Int64Index: 13563 entries, 0 to 13562\n",
            "Data columns (total 16 columns):\n",
            " #   Column                 Non-Null Count  Dtype  \n",
            "---  ------                 --------------  -----  \n",
            " 0   imdb_title_id          13563 non-null  object \n",
            " 1   original_title         13563 non-null  object \n",
            " 2   year                   13563 non-null  int64  \n",
            " 3   genre                  13563 non-null  object \n",
            " 4   duration               13563 non-null  int64  \n",
            " 5   country                13563 non-null  object \n",
            " 6   language               13563 non-null  object \n",
            " 7   director               13563 non-null  object \n",
            " 8   writer                 13537 non-null  object \n",
            " 9   production_company     13535 non-null  object \n",
            " 10  actors                 13562 non-null  object \n",
            " 11  description            13526 non-null  object \n",
            " 12  avg_vote               13563 non-null  float64\n",
            " 13  votes                  13563 non-null  int64  \n",
            " 14  worlwide_gross_income  10620 non-null  object \n",
            " 15  french title           12292 non-null  object \n",
            "dtypes: float64(1), int64(3), object(12)\n",
            "memory usage: 1.8+ MB\n"
          ],
          "name": "stdout"
        }
      ]
    },
    {
      "cell_type": "code",
      "metadata": {
        "id": "PEGsK58ecQ-u"
      },
      "source": [
        "# make a CSV file\n",
        "\n",
        "imdb_movies_eng_fr_fr_tit.to_csv('dataframe_english_french_movies_v2.csv')\n",
        "!cp dataframe_english_french_movies_v2.csv \"/content/drive/MyDrive/datasets/project_2\"\n"
      ],
      "execution_count": 102,
      "outputs": []
    },
    {
      "cell_type": "code",
      "metadata": {
        "id": "PUqsSIqycRBB"
      },
      "source": [
        ""
      ],
      "execution_count": null,
      "outputs": []
    }
  ]
}